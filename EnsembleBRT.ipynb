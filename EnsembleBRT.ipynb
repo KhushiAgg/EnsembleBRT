{
  "metadata": {
    "kernelspec": {
      "language": "python",
      "display_name": "Python 3",
      "name": "python3"
    },
    "language_info": {
      "pygments_lexer": "ipython3",
      "nbconvert_exporter": "python",
      "version": "3.6.4",
      "file_extension": ".py",
      "codemirror_mode": {
        "name": "ipython",
        "version": 3
      },
      "name": "python",
      "mimetype": "text/x-python"
    },
    "colab": {
      "provenance": [],
      "toc_visible": true
    }
  },
  "nbformat_minor": 0,
  "nbformat": 4,
  "cells": [
    {
      "cell_type": "markdown",
      "source": [
        "# MRI images Brain Tumor Classification\n"
      ],
      "metadata": {
        "id": "Z0UD85WBbnIC"
      }
    },
    {
      "cell_type": "code",
      "source": [
        "import keras\n",
        "keras.__version__\n",
        "from keras import backend as K\n",
        "#K.tensorflow_backend._get_available_gpus()\n",
        "import tensorflow as tf\n",
        "\n",
        "from tensorflow.python.client import device_lib\n",
        "local_device_protos = device_lib.list_local_devices()\n",
        "\n",
        "for val in local_device_protos:\n",
        "  print(val.device_type)\n"
      ],
      "metadata": {
        "execution": {
          "iopub.status.busy": "2023-07-26T17:41:40.866418Z",
          "iopub.execute_input": "2023-07-26T17:41:40.866808Z",
          "iopub.status.idle": "2023-07-26T17:41:40.874946Z",
          "shell.execute_reply.started": "2023-07-26T17:41:40.866780Z",
          "shell.execute_reply": "2023-07-26T17:41:40.873844Z"
        },
        "trusted": true,
        "id": "XCpvAAvbz8W0"
      },
      "execution_count": null,
      "outputs": []
    },
    {
      "cell_type": "markdown",
      "source": [
        "## Connect to TPU\n"
      ],
      "metadata": {
        "id": "oLxWH3Y7z8W3"
      }
    },
    {
      "cell_type": "code",
      "source": [
        "import keras\n",
        "keras.backend.set_session(\"TPU\")"
      ],
      "metadata": {
        "execution": {
          "iopub.status.busy": "2023-07-26T17:41:42.277127Z",
          "iopub.execute_input": "2023-07-26T17:41:42.277654Z",
          "iopub.status.idle": "2023-07-26T17:42:05.520756Z",
          "shell.execute_reply.started": "2023-07-26T17:41:42.277612Z",
          "shell.execute_reply": "2023-07-26T17:42:05.519644Z"
        },
        "trusted": true,
        "id": "7FIV4DzAz8W4"
      },
      "execution_count": null,
      "outputs": []
    },
    {
      "cell_type": "code",
      "source": [
        "pip install scikit-learn"
      ],
      "metadata": {
        "execution": {
          "iopub.status.busy": "2023-07-26T17:42:05.522350Z",
          "iopub.execute_input": "2023-07-26T17:42:05.522691Z",
          "iopub.status.idle": "2023-07-26T17:42:10.317013Z",
          "shell.execute_reply.started": "2023-07-26T17:42:05.522664Z",
          "shell.execute_reply": "2023-07-26T17:42:10.315777Z"
        },
        "trusted": true,
        "id": "8ySUC2Z8z8W5"
      },
      "execution_count": null,
      "outputs": []
    },
    {
      "cell_type": "code",
      "source": [
        "pip install seaborn"
      ],
      "metadata": {
        "execution": {
          "iopub.status.busy": "2023-07-26T17:42:10.318610Z",
          "iopub.execute_input": "2023-07-26T17:42:10.318934Z",
          "iopub.status.idle": "2023-07-26T17:42:14.990923Z",
          "shell.execute_reply.started": "2023-07-26T17:42:10.318905Z",
          "shell.execute_reply": "2023-07-26T17:42:14.989633Z"
        },
        "trusted": true,
        "id": "hhYAWYKqz8W6"
      },
      "execution_count": null,
      "outputs": []
    },
    {
      "cell_type": "code",
      "source": [
        "pip install plotly"
      ],
      "metadata": {
        "execution": {
          "iopub.status.busy": "2023-07-26T17:42:14.993326Z",
          "iopub.execute_input": "2023-07-26T17:42:14.993643Z",
          "iopub.status.idle": "2023-07-26T17:42:20.626462Z",
          "shell.execute_reply.started": "2023-07-26T17:42:14.993614Z",
          "shell.execute_reply": "2023-07-26T17:42:20.625167Z"
        },
        "trusted": true,
        "id": "fTrchspcz8W7"
      },
      "execution_count": null,
      "outputs": []
    },
    {
      "cell_type": "code",
      "source": [
        "pip install missingno"
      ],
      "metadata": {
        "execution": {
          "iopub.status.busy": "2023-07-26T17:42:20.627961Z",
          "iopub.execute_input": "2023-07-26T17:42:20.628319Z",
          "iopub.status.idle": "2023-07-26T17:42:25.339106Z",
          "shell.execute_reply.started": "2023-07-26T17:42:20.628285Z",
          "shell.execute_reply": "2023-07-26T17:42:25.337840Z"
        },
        "trusted": true,
        "id": "VmJu_M6Ez8W8"
      },
      "execution_count": null,
      "outputs": []
    },
    {
      "cell_type": "code",
      "source": [
        "\n",
        "import sys\n",
        "import os\n",
        "import math\n",
        "\n",
        "import numpy as np\n",
        "import pandas as pd\n",
        "\n",
        "from matplotlib import pyplot as plt\n",
        "from matplotlib import rcParams\n",
        "rcParams['figure.dpi'] = 300\n",
        "%matplotlib inline\n",
        "import seaborn as sns\n",
        "import missingno as msno\n",
        "import plotly.express as px\n",
        "import plotly.graph_objects as go\n",
        "from plotly.subplots import make_subplots\n",
        "\n",
        "import tensorflow as tf\n",
        "from tensorflow.keras.models import Sequential\n",
        "from tensorflow.keras.layers import *\n",
        "from tensorflow.keras.optimizers import *\n",
        "from tensorflow.keras.callbacks import EarlyStopping, ModelCheckpoint\n",
        "from sklearn.model_selection import train_test_split, KFold\n",
        "from sklearn.metrics import *\n",
        "\n",
        "from PIL import Image, ImageEnhance\n",
        "from tensorflow.keras.preprocessing.image import *"
      ],
      "metadata": {
        "id": "6z_WaYkfrL-Y",
        "execution": {
          "iopub.status.busy": "2023-07-26T17:42:25.340608Z",
          "iopub.execute_input": "2023-07-26T17:42:25.340915Z",
          "iopub.status.idle": "2023-07-26T17:42:26.513760Z",
          "shell.execute_reply.started": "2023-07-26T17:42:25.340886Z",
          "shell.execute_reply": "2023-07-26T17:42:26.512804Z"
        },
        "trusted": true
      },
      "execution_count": null,
      "outputs": []
    },
    {
      "cell_type": "code",
      "source": [
        "import pathlib\n",
        "import tensorflow as tf\n",
        "\n",
        "train_dir = pathlib.Path('/kaggle/input/brain-tumor-mri-dataset/Training')\n",
        "test_dir = pathlib.Path('/kaggle/input/brain-tumor-mri-dataset/Testing')\n",
        "img_height=224\n",
        "img_width=224"
      ],
      "metadata": {
        "id": "uR_Y-KV8asLF",
        "execution": {
          "iopub.status.busy": "2023-07-26T17:42:26.514954Z",
          "iopub.execute_input": "2023-07-26T17:42:26.515501Z",
          "iopub.status.idle": "2023-07-26T17:42:26.520847Z",
          "shell.execute_reply.started": "2023-07-26T17:42:26.515473Z",
          "shell.execute_reply": "2023-07-26T17:42:26.519991Z"
        },
        "trusted": true
      },
      "execution_count": null,
      "outputs": []
    },
    {
      "cell_type": "code",
      "source": [
        "train_ds  = tf.keras.utils.image_dataset_from_directory(\n",
        "  train_dir,\n",
        "  validation_split=0.2,\n",
        "  subset=\"training\",\n",
        "  seed=123,\n",
        "  image_size=(img_height, img_width),\n",
        "  batch_size=128)\n"
      ],
      "metadata": {
        "id": "GbEWwAThcJJa",
        "execution": {
          "iopub.status.busy": "2023-07-26T17:42:26.521886Z",
          "iopub.execute_input": "2023-07-26T17:42:26.522240Z",
          "iopub.status.idle": "2023-07-26T17:42:27.705545Z",
          "shell.execute_reply.started": "2023-07-26T17:42:26.522211Z",
          "shell.execute_reply": "2023-07-26T17:42:27.704617Z"
        },
        "trusted": true
      },
      "execution_count": null,
      "outputs": []
    },
    {
      "cell_type": "code",
      "source": [
        "test_ds  = tf.keras.utils.image_dataset_from_directory(\n",
        "  train_dir,\n",
        "  validation_split=0.2,\n",
        "  subset=\"validation\",\n",
        "  seed=123,\n",
        "  image_size=(img_height, img_width),\n",
        "  batch_size=128)\n"
      ],
      "metadata": {
        "id": "29WL9tjFmVwC",
        "execution": {
          "iopub.status.busy": "2023-07-26T17:42:27.706653Z",
          "iopub.execute_input": "2023-07-26T17:42:27.706928Z",
          "iopub.status.idle": "2023-07-26T17:42:28.111563Z",
          "shell.execute_reply.started": "2023-07-26T17:42:27.706903Z",
          "shell.execute_reply": "2023-07-26T17:42:28.110593Z"
        },
        "trusted": true
      },
      "execution_count": null,
      "outputs": []
    },
    {
      "cell_type": "code",
      "source": [
        "val_ds  = tf.keras.utils.image_dataset_from_directory(\n",
        "  test_dir,\n",
        "  validation_split=None,\n",
        "  subset=None,\n",
        "  seed=123,\n",
        "  image_size=(img_height, img_width),\n",
        "  batch_size=128)\n"
      ],
      "metadata": {
        "id": "VAeMEo9SyZVA",
        "execution": {
          "iopub.status.busy": "2023-07-26T17:42:28.115336Z",
          "iopub.execute_input": "2023-07-26T17:42:28.115713Z",
          "iopub.status.idle": "2023-07-26T17:42:28.481294Z",
          "shell.execute_reply.started": "2023-07-26T17:42:28.115672Z",
          "shell.execute_reply": "2023-07-26T17:42:28.480406Z"
        },
        "trusted": true
      },
      "execution_count": null,
      "outputs": []
    },
    {
      "cell_type": "markdown",
      "source": [
        "## Visualize the data distribution"
      ],
      "metadata": {
        "id": "QRkCfwTGg0qh"
      }
    },
    {
      "cell_type": "code",
      "source": [
        "ROOT_DIR = r\"/kaggle/input/brain-tumor-mri-dataset\"\n",
        "TRAIN_DIR = os.path.join(ROOT_DIR, 'Training')\n",
        "TEST_DIR = os.path.join(ROOT_DIR, 'Testing')\n",
        "assert os.path.isdir(ROOT_DIR) and os.path.isdir(TRAIN_DIR) and os.path.isdir(TEST_DIR)\n",
        "TUMOR_CLASS = ['meningioma', 'glioma', 'pituitary', 'notumor']\n",
        "IMAGE_DATA_PATHS = [os.path.join(TRAIN_DIR, tumor_class) for tumor_class in TUMOR_CLASS]\n",
        "TEST_DATA_PATHS = [os.path.join(TEST_DIR, tumor_class) for tumor_class in TUMOR_CLASS]"
      ],
      "metadata": {
        "id": "NAHxX-Xii862",
        "execution": {
          "iopub.status.busy": "2023-07-26T17:42:28.482441Z",
          "iopub.execute_input": "2023-07-26T17:42:28.482752Z",
          "iopub.status.idle": "2023-07-26T17:42:28.489567Z",
          "shell.execute_reply.started": "2023-07-26T17:42:28.482725Z",
          "shell.execute_reply": "2023-07-26T17:42:28.488633Z"
        },
        "trusted": true
      },
      "execution_count": null,
      "outputs": []
    },
    {
      "cell_type": "code",
      "source": [
        "TEST_DATA_PATHS"
      ],
      "metadata": {
        "id": "d7mHXMURtdcf",
        "execution": {
          "iopub.status.busy": "2023-07-26T17:42:28.490588Z",
          "iopub.execute_input": "2023-07-26T17:42:28.490891Z",
          "iopub.status.idle": "2023-07-26T17:42:28.506022Z",
          "shell.execute_reply.started": "2023-07-26T17:42:28.490868Z",
          "shell.execute_reply": "2023-07-26T17:42:28.505270Z"
        },
        "trusted": true
      },
      "execution_count": null,
      "outputs": []
    },
    {
      "cell_type": "code",
      "source": [
        "data_distribution_count = pd.Series([len(os.listdir(path)) for path in TEST_DATA_PATHS if os.path.exists(path) and os.path.isdir(path)],index = TUMOR_CLASS)\n",
        "data_distribution_count"
      ],
      "metadata": {
        "id": "RzaGE6QBt6Gt",
        "execution": {
          "iopub.status.busy": "2023-07-26T17:42:28.507042Z",
          "iopub.execute_input": "2023-07-26T17:42:28.507330Z",
          "iopub.status.idle": "2023-07-26T17:42:28.526553Z",
          "shell.execute_reply.started": "2023-07-26T17:42:28.507305Z",
          "shell.execute_reply": "2023-07-26T17:42:28.525717Z"
        },
        "trusted": true
      },
      "execution_count": null,
      "outputs": []
    },
    {
      "cell_type": "code",
      "source": [
        "data_distribution_count = pd.Series([len(os.listdir(path)) for path in IMAGE_DATA_PATHS if os.path.exists(path) and os.path.isdir(path)],index = TUMOR_CLASS)\n",
        "data_distribution_count"
      ],
      "metadata": {
        "id": "_w8DTYteg0RM",
        "execution": {
          "iopub.status.busy": "2023-07-26T17:42:28.527527Z",
          "iopub.execute_input": "2023-07-26T17:42:28.527794Z",
          "iopub.status.idle": "2023-07-26T17:42:28.539369Z",
          "shell.execute_reply.started": "2023-07-26T17:42:28.527771Z",
          "shell.execute_reply": "2023-07-26T17:42:28.538481Z"
        },
        "trusted": true
      },
      "execution_count": null,
      "outputs": []
    },
    {
      "cell_type": "code",
      "source": [
        "fig, axis = plt.subplots(figsize = (13, 5))\n",
        "axis.grid(True, alpha = 0.1)\n",
        "axis.set_title(\"Data Distribution Percentage (%)\", fontsize = 14)\n",
        "sns.barplot(x = ['\\n'.join(curr_index.strip().split('_')).title() for curr_index in data_distribution_count.index],\n",
        "            y = 100 * (data_distribution_count / data_distribution_count.sum()), ax = axis)\n",
        "axis.set_xlabel(\"Tumor Class\", fontsize = 12)\n",
        "axis.set_ylabel(\"% Total Observations\", fontsize = 12)\n",
        "axis.tick_params(which = 'major', labelsize = 12)\n",
        "axis.text(2.5, 37, f'Total Observations: {data_distribution_count.sum()}', fontdict = dict(size = 12))\n",
        "sns.despine()"
      ],
      "metadata": {
        "id": "dkSxbaCpg5pd",
        "execution": {
          "iopub.status.busy": "2023-07-26T17:42:28.540417Z",
          "iopub.execute_input": "2023-07-26T17:42:28.540681Z",
          "iopub.status.idle": "2023-07-26T17:42:29.270432Z",
          "shell.execute_reply.started": "2023-07-26T17:42:28.540658Z",
          "shell.execute_reply": "2023-07-26T17:42:29.269405Z"
        },
        "trusted": true
      },
      "execution_count": null,
      "outputs": []
    },
    {
      "cell_type": "code",
      "source": [
        "BRIGHTNESS_FACTOR = 1.7\n",
        "fig, axes = plt.subplots(nrows = 1, ncols = 4, figsize = (18, 5))\n",
        "axes = axes.flatten()\n",
        "fig.suptitle(\"Brain Tumor Images\", fontsize = 16, fontdict = dict(weight = 'bold'), y = 1.04)\n",
        "for curr_title, filename, curr_axis in zip(TUMOR_CLASS, IMAGE_DATA_PATHS, axes[:4]):\n",
        "    curr_image = Image.open(os.path.join(filename, os.listdir(filename)[2]))\n",
        "    img_enhancer = ImageEnhance.Brightness(curr_image)\n",
        "    curr_axis.imshow(img_enhancer.enhance(BRIGHTNESS_FACTOR))\n",
        "    curr_axis.set_title(\" \".join(curr_title.split('_')).title(), fontsize = 14)\n",
        "\n",
        "fig.tight_layout()\n",
        "sns.despine()"
      ],
      "metadata": {
        "id": "Z5t-A_1Og5sV",
        "execution": {
          "iopub.status.busy": "2023-07-26T17:42:29.271589Z",
          "iopub.execute_input": "2023-07-26T17:42:29.271880Z",
          "iopub.status.idle": "2023-07-26T17:42:32.506198Z",
          "shell.execute_reply.started": "2023-07-26T17:42:29.271854Z",
          "shell.execute_reply": "2023-07-26T17:42:32.505158Z"
        },
        "trusted": true
      },
      "execution_count": null,
      "outputs": []
    },
    {
      "cell_type": "markdown",
      "source": [
        "## Image Augmentation"
      ],
      "metadata": {
        "id": "6vxsfqBHvJKD"
      }
    },
    {
      "cell_type": "code",
      "source": [
        "normalization_layer = tf.keras.layers.Rescaling(1./255)"
      ],
      "metadata": {
        "id": "M8BMxrCecJOf",
        "execution": {
          "iopub.status.busy": "2023-07-26T17:42:32.507371Z",
          "iopub.execute_input": "2023-07-26T17:42:32.507666Z",
          "iopub.status.idle": "2023-07-26T17:42:32.515306Z",
          "shell.execute_reply.started": "2023-07-26T17:42:32.507634Z",
          "shell.execute_reply": "2023-07-26T17:42:32.514462Z"
        },
        "trusted": true
      },
      "execution_count": null,
      "outputs": []
    },
    {
      "cell_type": "code",
      "source": [
        "import numpy as np\n",
        "normalized_ds = train_ds.map(lambda x, y: (normalization_layer(x), y))\n",
        "image_batch, labels_batch = next(iter(normalized_ds))\n",
        "first_image = image_batch[0]\n",
        "# Notice the pixel values are now in `[0,1]`.\n",
        "print(np.min(first_image), np.max(first_image))"
      ],
      "metadata": {
        "id": "OD_aQz2EcJQZ",
        "execution": {
          "iopub.status.busy": "2023-07-26T17:42:32.516298Z",
          "iopub.execute_input": "2023-07-26T17:42:32.516572Z",
          "iopub.status.idle": "2023-07-26T17:42:32.997853Z",
          "shell.execute_reply.started": "2023-07-26T17:42:32.516550Z",
          "shell.execute_reply": "2023-07-26T17:42:32.996702Z"
        },
        "trusted": true
      },
      "execution_count": null,
      "outputs": []
    },
    {
      "cell_type": "code",
      "source": [
        "AUTOTUNE = tf.data.AUTOTUNE\n",
        "train_ds = train_ds.cache().shuffle(1000).prefetch(buffer_size=AUTOTUNE)\n",
        "test_ds = test_ds.cache().prefetch(buffer_size=AUTOTUNE)\n",
        "val_ds = val_ds.cache().prefetch(buffer_size=AUTOTUNE)"
      ],
      "metadata": {
        "id": "fWvlHdBjcJec",
        "execution": {
          "iopub.status.busy": "2023-07-26T17:42:32.999204Z",
          "iopub.execute_input": "2023-07-26T17:42:32.999545Z",
          "iopub.status.idle": "2023-07-26T17:42:33.013172Z",
          "shell.execute_reply.started": "2023-07-26T17:42:32.999516Z",
          "shell.execute_reply": "2023-07-26T17:42:33.012261Z"
        },
        "trusted": true
      },
      "execution_count": null,
      "outputs": []
    },
    {
      "cell_type": "markdown",
      "source": [
        "### 1. Inception V3"
      ],
      "metadata": {
        "id": "sxSSahG7dB9b"
      }
    },
    {
      "cell_type": "code",
      "source": [
        "from tensorflow.keras.applications import InceptionV3\n",
        "from tensorflow.keras.models import Model\n",
        "from keras.layers import GlobalAveragePooling2D, Flatten, BatchNormalization, Dense, Dropout\n",
        "from tensorflow.keras.layers import MaxPooling2D, GlobalAveragePooling2D\n",
        "\n",
        "# detect and init the TPU\n",
        "tpu = tf.distribute.cluster_resolver.TPUClusterResolver.connect()\n",
        "\n",
        "# instantiate a distribution strategy\n",
        "tpu_strategy = tf.distribute.experimental.TPUStrategy(tpu)\n"
      ],
      "metadata": {
        "id": "HSAYh7_ecJhD",
        "execution": {
          "iopub.status.busy": "2023-07-26T17:42:33.014283Z",
          "iopub.execute_input": "2023-07-26T17:42:33.014591Z",
          "iopub.status.idle": "2023-07-26T17:42:38.911959Z",
          "shell.execute_reply.started": "2023-07-26T17:42:33.014564Z",
          "shell.execute_reply": "2023-07-26T17:42:38.911018Z"
        },
        "trusted": true
      },
      "execution_count": null,
      "outputs": []
    },
    {
      "cell_type": "code",
      "source": [
        "\n",
        "# instantiating the model in the strategy scope creates the model on the TPU\n",
        "with tpu_strategy.scope():\n",
        "    base_model1 = InceptionV3(\n",
        "                    input_shape=(224, 224, 3),\n",
        "                    weights='imagenet',\n",
        "                    include_top=False) # define your model normally\n",
        "    for layer in base_model1.layers[:10]:\n",
        "        layer.trainable = False\n",
        "    x = base_model1.output\n",
        "    x = GlobalAveragePooling2D()(x)\n",
        "    x = Dense(512, activation='relu')(x)\n",
        "    x = Dropout(0.4)(x)\n",
        "    predictions1 = Dense(4, activation='softmax')(x)\n",
        "    model1 = Model(inputs=base_model1.inputs, outputs=predictions1)\n",
        "    model1.compile(optimizer='adam',loss=tf.losses.SparseCategoricalCrossentropy(),metrics=['accuracy'])\n",
        "\n"
      ],
      "metadata": {
        "execution": {
          "iopub.status.busy": "2023-07-26T17:42:38.913065Z",
          "iopub.execute_input": "2023-07-26T17:42:38.913343Z",
          "iopub.status.idle": "2023-07-26T17:43:09.223578Z",
          "shell.execute_reply.started": "2023-07-26T17:42:38.913318Z",
          "shell.execute_reply": "2023-07-26T17:43:09.222420Z"
        },
        "trusted": true,
        "id": "tBuU5dmGz8XL"
      },
      "execution_count": null,
      "outputs": []
    },
    {
      "cell_type": "code",
      "source": [
        "history1=model1.fit(\n",
        "  train_ds,\n",
        "  validation_data=test_ds,\n",
        "  epochs=25)\n",
        "\n",
        "model1.save('model1.h5')"
      ],
      "metadata": {
        "id": "5vyrdiLPdTvq",
        "execution": {
          "iopub.status.busy": "2023-07-26T17:43:09.229692Z",
          "iopub.execute_input": "2023-07-26T17:43:09.229946Z",
          "iopub.status.idle": "2023-07-26T17:47:35.387560Z",
          "shell.execute_reply.started": "2023-07-26T17:43:09.229923Z",
          "shell.execute_reply": "2023-07-26T17:47:35.386269Z"
        },
        "trusted": true
      },
      "execution_count": null,
      "outputs": []
    },
    {
      "cell_type": "code",
      "source": [
        "inceptionv3_evaluation = model1.evaluate(val_ds)\n",
        "inceptionv3_evaluation[1]*100"
      ],
      "metadata": {
        "id": "bvVYdE_Itbf2",
        "execution": {
          "iopub.status.busy": "2023-07-26T17:47:35.389769Z",
          "iopub.execute_input": "2023-07-26T17:47:35.390098Z",
          "iopub.status.idle": "2023-07-26T17:47:51.319406Z",
          "shell.execute_reply.started": "2023-07-26T17:47:35.390070Z",
          "shell.execute_reply": "2023-07-26T17:47:51.318173Z"
        },
        "trusted": true
      },
      "execution_count": null,
      "outputs": []
    },
    {
      "cell_type": "code",
      "source": [
        "import matplotlib.pyplot as plt\n",
        "acc = history1.history['accuracy']\n",
        "val_acc = history1.history['val_accuracy']\n",
        "loss = history1.history['loss']\n",
        "val_loss = history1.history['val_loss']\n",
        "\n",
        "epochs = range(len(acc))\n",
        "\n",
        "plt.plot(epochs, acc, 'r', label='Training accuracy')\n",
        "plt.plot(epochs, val_acc, 'b', label='Validation accuracy')\n",
        "plt.title('Training and validation accuracy')\n",
        "plt.legend()\n",
        "plt.figure()\n",
        "\n",
        "plt.plot(epochs, loss, 'r', label='Training Loss')\n",
        "plt.plot(epochs, val_loss, 'b', label='Validation Loss')\n",
        "plt.title('Training and validation loss')\n",
        "plt.legend()\n",
        "\n",
        "plt.show()"
      ],
      "metadata": {
        "id": "m9ARGk9UdTx0",
        "execution": {
          "iopub.status.busy": "2023-07-26T17:47:51.320694Z",
          "iopub.execute_input": "2023-07-26T17:47:51.321021Z",
          "iopub.status.idle": "2023-07-26T17:47:52.132457Z",
          "shell.execute_reply.started": "2023-07-26T17:47:51.320993Z",
          "shell.execute_reply": "2023-07-26T17:47:52.131205Z"
        },
        "trusted": true
      },
      "execution_count": null,
      "outputs": []
    },
    {
      "cell_type": "markdown",
      "source": [
        "### 2. VGG16"
      ],
      "metadata": {
        "id": "FxXcEKWUdK7X"
      }
    },
    {
      "cell_type": "code",
      "source": [
        "from tensorflow.keras.applications import VGG16\n",
        "from tensorflow.keras.models import Model\n",
        "from tensorflow.keras.layers import MaxPooling2D, GlobalAveragePooling2D\n",
        "\n",
        "with tpu_strategy.scope():\n",
        "    base_model2 = VGG16(\n",
        "                        input_shape=(224, 224, 3),\n",
        "                        weights='imagenet',\n",
        "                        include_top=False)\n",
        "    # Freeze the first 10 layers\n",
        "    for layer in base_model2.layers:\n",
        "        layer.trainable = False\n",
        "    x = base_model2.output\n",
        "    x = GlobalAveragePooling2D()(x)\n",
        "    x = Dense(512, activation='relu')(x)\n",
        "    x = Dropout(0.4)(x)\n",
        "    predictions2 = Dense(4, activation='softmax')(x)\n",
        "    model2 = Model(inputs=base_model2.inputs, outputs=predictions2)\n",
        "    model2.compile(optimizer='adam',loss=tf.losses.SparseCategoricalCrossentropy(),metrics=['accuracy'])"
      ],
      "metadata": {
        "id": "sXGLk624cJkJ",
        "execution": {
          "iopub.status.busy": "2023-07-26T17:48:45.290293Z",
          "iopub.execute_input": "2023-07-26T17:48:45.290689Z",
          "iopub.status.idle": "2023-07-26T17:48:51.091191Z",
          "shell.execute_reply.started": "2023-07-26T17:48:45.290661Z",
          "shell.execute_reply": "2023-07-26T17:48:51.089700Z"
        },
        "trusted": true
      },
      "execution_count": null,
      "outputs": []
    },
    {
      "cell_type": "code",
      "source": [
        "history2=model2.fit(\n",
        "  train_ds,\n",
        "  validation_data=test_ds,\n",
        "  epochs=25)\n",
        "\n",
        "model2.save('model2.h5')"
      ],
      "metadata": {
        "id": "KdpqPv3udT0n",
        "execution": {
          "iopub.status.busy": "2023-07-26T17:48:51.239070Z",
          "iopub.execute_input": "2023-07-26T17:48:51.239392Z",
          "iopub.status.idle": "2023-07-26T17:50:48.038544Z",
          "shell.execute_reply.started": "2023-07-26T17:48:51.239353Z",
          "shell.execute_reply": "2023-07-26T17:50:48.037210Z"
        },
        "trusted": true
      },
      "execution_count": null,
      "outputs": []
    },
    {
      "cell_type": "code",
      "source": [
        "vgg16_evaluation = model2.evaluate(val_ds)\n",
        "vgg16_evaluation[1]*100"
      ],
      "metadata": {
        "id": "CVGmOlLKtCci",
        "execution": {
          "iopub.status.busy": "2023-07-26T17:50:48.040451Z",
          "iopub.execute_input": "2023-07-26T17:50:48.040843Z",
          "iopub.status.idle": "2023-07-26T17:50:55.620558Z",
          "shell.execute_reply.started": "2023-07-26T17:50:48.040816Z",
          "shell.execute_reply": "2023-07-26T17:50:55.619243Z"
        },
        "trusted": true
      },
      "execution_count": null,
      "outputs": []
    },
    {
      "cell_type": "code",
      "source": [
        "import matplotlib.pyplot as plt\n",
        "acc = history2.history['accuracy']\n",
        "val_acc = history2.history['val_accuracy']\n",
        "loss = history2.history['loss']\n",
        "val_loss = history2.history['val_loss']\n",
        "\n",
        "epochs = range(len(acc))\n",
        "\n",
        "plt.plot(epochs, acc, 'r', label='Training accuracy')\n",
        "plt.plot(epochs, val_acc, 'b', label='Validation accuracy')\n",
        "plt.title('Training and validation accuracy')\n",
        "plt.legend()\n",
        "plt.figure()\n",
        "\n",
        "plt.plot(epochs, loss, 'r', label='Training Loss')\n",
        "plt.plot(epochs, val_loss, 'b', label='Validation Loss')\n",
        "plt.title('Training and validation loss')\n",
        "plt.legend()\n",
        "\n",
        "plt.show()"
      ],
      "metadata": {
        "id": "Lki_8GpHdT4h",
        "execution": {
          "iopub.status.busy": "2023-07-26T17:50:55.621934Z",
          "iopub.execute_input": "2023-07-26T17:50:55.622300Z",
          "iopub.status.idle": "2023-07-26T17:50:56.455844Z",
          "shell.execute_reply.started": "2023-07-26T17:50:55.622268Z",
          "shell.execute_reply": "2023-07-26T17:50:56.454516Z"
        },
        "trusted": true
      },
      "execution_count": null,
      "outputs": []
    },
    {
      "cell_type": "markdown",
      "source": [
        "### 3. VGG19"
      ],
      "metadata": {
        "id": "bA_fNanfn-78"
      }
    },
    {
      "cell_type": "code",
      "source": [
        "from tensorflow.keras.applications import VGG19\n",
        "from tensorflow.keras.models import Model\n",
        "from tensorflow.keras.layers import MaxPooling2D, GlobalAveragePooling2D\n",
        "\n",
        "with tpu_strategy.scope():\n",
        "\n",
        "    base_model3 = VGG19(\n",
        "                        input_shape=(224, 224, 3),\n",
        "                        weights='imagenet',\n",
        "                        include_top=False)\n",
        "    # Freeze the first 10 layers\n",
        "    for layer in base_model3.layers[:10]:\n",
        "        layer.trainable = False\n",
        "    x = base_model3.output\n",
        "    x = GlobalAveragePooling2D()(x)\n",
        "    x = Dense(512, activation='relu')(x)\n",
        "    x = Dropout(0.3)(x)\n",
        "    predictions3 = Dense(4, activation='softmax')(x)\n",
        "    model3 = Model(inputs=base_model3.inputs, outputs=predictions3)\n",
        "    model3.compile(optimizer='adam',loss=tf.losses.SparseCategoricalCrossentropy(),metrics=['accuracy'])"
      ],
      "metadata": {
        "id": "4jQtfr9jn_JO",
        "execution": {
          "iopub.status.busy": "2023-07-26T17:52:10.037795Z",
          "iopub.execute_input": "2023-07-26T17:52:10.038165Z",
          "iopub.status.idle": "2023-07-26T17:52:12.319081Z",
          "shell.execute_reply.started": "2023-07-26T17:52:10.038137Z",
          "shell.execute_reply": "2023-07-26T17:52:12.317721Z"
        },
        "trusted": true
      },
      "execution_count": null,
      "outputs": []
    },
    {
      "cell_type": "code",
      "source": [
        "history3=model3.fit(\n",
        "  train_ds,\n",
        "  validation_data=test_ds,\n",
        "  epochs=25)\n",
        "\n",
        "model3.save('model3.h5')"
      ],
      "metadata": {
        "id": "8KetJQDGpIeW",
        "execution": {
          "iopub.status.busy": "2023-07-26T17:52:12.326576Z",
          "iopub.execute_input": "2023-07-26T17:52:12.326862Z",
          "iopub.status.idle": "2023-07-26T17:54:46.919934Z",
          "shell.execute_reply.started": "2023-07-26T17:52:12.326837Z",
          "shell.execute_reply": "2023-07-26T17:54:46.918651Z"
        },
        "trusted": true
      },
      "execution_count": null,
      "outputs": []
    },
    {
      "cell_type": "code",
      "source": [
        "vgg19_evaluation = model3.evaluate(val_ds)\n",
        "vgg19_evaluation[1]*100"
      ],
      "metadata": {
        "id": "CP7KVD1WpIh-",
        "execution": {
          "iopub.status.busy": "2023-07-26T17:54:46.922124Z",
          "iopub.execute_input": "2023-07-26T17:54:46.922553Z",
          "iopub.status.idle": "2023-07-26T17:54:54.724037Z",
          "shell.execute_reply.started": "2023-07-26T17:54:46.922500Z",
          "shell.execute_reply": "2023-07-26T17:54:54.722763Z"
        },
        "trusted": true
      },
      "execution_count": null,
      "outputs": []
    },
    {
      "cell_type": "code",
      "source": [
        "import matplotlib.pyplot as plt\n",
        "acc = history3.history['accuracy']\n",
        "val_acc = history3.history['val_accuracy']\n",
        "loss = history3.history['loss']\n",
        "val_loss = history3.history['val_loss']\n",
        "\n",
        "epochs = range(len(acc))\n",
        "\n",
        "plt.plot(epochs, acc, 'r', label='Training accuracy')\n",
        "plt.plot(epochs, val_acc, 'b', label='Validation accuracy')\n",
        "plt.title('Training and validation accuracy')\n",
        "plt.legend()\n",
        "plt.figure()\n",
        "\n",
        "plt.plot(epochs, loss, 'r', label='Training Loss')\n",
        "plt.plot(epochs, val_loss, 'b', label='Validation Loss')\n",
        "plt.title('Training and validation loss')\n",
        "plt.legend()\n",
        "\n",
        "plt.show()"
      ],
      "metadata": {
        "id": "7OIXS_w4pZLb",
        "execution": {
          "iopub.status.busy": "2023-07-26T17:54:54.725446Z",
          "iopub.execute_input": "2023-07-26T17:54:54.725800Z",
          "iopub.status.idle": "2023-07-26T17:54:55.607739Z",
          "shell.execute_reply.started": "2023-07-26T17:54:54.725769Z",
          "shell.execute_reply": "2023-07-26T17:54:55.606418Z"
        },
        "trusted": true
      },
      "execution_count": null,
      "outputs": []
    },
    {
      "cell_type": "markdown",
      "source": [
        "### 4. RESNET50"
      ],
      "metadata": {
        "id": "X95KCAHLpn3T"
      }
    },
    {
      "cell_type": "code",
      "source": [
        "from tensorflow.keras.applications import ResNet50\n",
        "\n",
        "with tpu_strategy.scope():\n",
        "\n",
        "    base_model4 = ResNet50(\n",
        "                        input_shape=(224, 224, 3),\n",
        "                        weights='imagenet',\n",
        "                        include_top=False)\n",
        "    # Freeze the first 10 layers\n",
        "    for layer in base_model4.layers[:10]:\n",
        "        layer.trainable = False\n",
        "    x = base_model4.output\n",
        "    x = GlobalAveragePooling2D()(x)\n",
        "    x = Dense(512, activation='relu')(x)\n",
        "    x = Dropout(0.4)(x)\n",
        "    predictions4 = Dense(4, activation='softmax')(x)\n",
        "    model4 = Model(inputs=base_model4.inputs, outputs=predictions4)\n",
        "    model4.compile(optimizer='adam',loss=tf.losses.SparseCategoricalCrossentropy(),metrics=['accuracy'])"
      ],
      "metadata": {
        "id": "iIrAjgOZpZQJ",
        "execution": {
          "iopub.status.busy": "2023-07-26T18:02:09.847333Z",
          "iopub.execute_input": "2023-07-26T18:02:09.847806Z",
          "iopub.status.idle": "2023-07-26T18:02:27.211071Z",
          "shell.execute_reply.started": "2023-07-26T18:02:09.847775Z",
          "shell.execute_reply": "2023-07-26T18:02:27.209701Z"
        },
        "trusted": true
      },
      "execution_count": null,
      "outputs": []
    },
    {
      "cell_type": "code",
      "source": [
        "history4=model4.fit(\n",
        "  train_ds,\n",
        "  validation_data=test_ds,\n",
        "  epochs=25)\n",
        "\n",
        "model4.save('model4.h5')"
      ],
      "metadata": {
        "id": "YSbuwWmSqZ_Y",
        "execution": {
          "iopub.status.busy": "2023-07-26T18:02:27.218443Z",
          "iopub.execute_input": "2023-07-26T18:02:27.218729Z",
          "iopub.status.idle": "2023-07-26T18:06:20.140623Z",
          "shell.execute_reply.started": "2023-07-26T18:02:27.218703Z",
          "shell.execute_reply": "2023-07-26T18:06:20.139177Z"
        },
        "trusted": true
      },
      "execution_count": null,
      "outputs": []
    },
    {
      "cell_type": "code",
      "source": [
        "resnet50_evaluation = model4.evaluate(val_ds)\n",
        "resnet50_evaluation[1]*100"
      ],
      "metadata": {
        "id": "CJYIFDQ0qaCq",
        "execution": {
          "iopub.status.busy": "2023-07-26T18:06:20.143437Z",
          "iopub.execute_input": "2023-07-26T18:06:20.143796Z",
          "iopub.status.idle": "2023-07-26T18:06:29.893854Z",
          "shell.execute_reply.started": "2023-07-26T18:06:20.143767Z",
          "shell.execute_reply": "2023-07-26T18:06:29.892557Z"
        },
        "trusted": true
      },
      "execution_count": null,
      "outputs": []
    },
    {
      "cell_type": "code",
      "source": [
        "import matplotlib.pyplot as plt\n",
        "acc = history4.history['accuracy']\n",
        "val_acc = history4.history['val_accuracy']\n",
        "loss = history4.history['loss']\n",
        "val_loss = history4.history['val_loss']\n",
        "\n",
        "epochs = range(len(acc))\n",
        "\n",
        "plt.plot(epochs, acc, 'r', label='Training accuracy')\n",
        "plt.plot(epochs, val_acc, 'b', label='Validation accuracy')\n",
        "plt.title('Training and validation accuracy')\n",
        "plt.legend()\n",
        "plt.figure()\n",
        "\n",
        "plt.plot(epochs, loss, 'r', label='Training Loss')\n",
        "plt.plot(epochs, val_loss, 'b', label='Validation Loss')\n",
        "plt.title('Training and validation loss')\n",
        "plt.legend()\n",
        "\n",
        "plt.show()"
      ],
      "metadata": {
        "id": "wrpHArNxqaD1",
        "execution": {
          "iopub.status.busy": "2023-07-26T18:06:29.895213Z",
          "iopub.execute_input": "2023-07-26T18:06:29.895678Z",
          "iopub.status.idle": "2023-07-26T18:06:30.792182Z",
          "shell.execute_reply.started": "2023-07-26T18:06:29.895645Z",
          "shell.execute_reply": "2023-07-26T18:06:30.790828Z"
        },
        "trusted": true
      },
      "execution_count": null,
      "outputs": []
    },
    {
      "cell_type": "markdown",
      "source": [
        "### 5. Inception-ResNet-v2"
      ],
      "metadata": {
        "id": "OfC2T1qQvwCa"
      }
    },
    {
      "cell_type": "code",
      "source": [
        "with tpu_strategy.scope():\n",
        "\n",
        "    base_model5 = tf.keras.applications.InceptionResNetV2(\n",
        "                        input_shape=(224, 224, 3),\n",
        "                        weights='imagenet',\n",
        "                        include_top=False)\n",
        "    # Freeze the first 10 layers\n",
        "    for layer in base_model5.layers[:10]:\n",
        "        layer.trainable = False\n",
        "    x = base_model5.output\n",
        "    x = GlobalAveragePooling2D()(x)\n",
        "    x = Dense(512, activation='relu')(x)\n",
        "    x = Dropout(0.4)(x)\n",
        "    predictions5 = Dense(4, activation='softmax')(x)\n",
        "    model5 = Model(inputs=base_model5.inputs, outputs=predictions5)\n",
        "    model5.compile(optimizer='adam',loss=tf.losses.SparseCategoricalCrossentropy(),metrics=['accuracy'])"
      ],
      "metadata": {
        "id": "w6_CKZ_Q2Qxo",
        "execution": {
          "iopub.status.busy": "2023-07-26T18:07:07.476245Z",
          "iopub.execute_input": "2023-07-26T18:07:07.476978Z",
          "iopub.status.idle": "2023-07-26T18:07:51.813957Z",
          "shell.execute_reply.started": "2023-07-26T18:07:07.476941Z",
          "shell.execute_reply": "2023-07-26T18:07:51.812557Z"
        },
        "trusted": true
      },
      "execution_count": null,
      "outputs": []
    },
    {
      "cell_type": "code",
      "source": [
        "history5=model5.fit(\n",
        "  train_ds,\n",
        "  validation_data=test_ds,\n",
        "  epochs=25)\n",
        "\n",
        "model5.save('model5.h5')"
      ],
      "metadata": {
        "id": "1pQUeff92Q3M",
        "execution": {
          "iopub.status.busy": "2023-07-26T18:07:51.822030Z",
          "iopub.execute_input": "2023-07-26T18:07:51.822364Z",
          "iopub.status.idle": "2023-07-26T18:16:13.972486Z",
          "shell.execute_reply.started": "2023-07-26T18:07:51.822338Z",
          "shell.execute_reply": "2023-07-26T18:16:13.970969Z"
        },
        "trusted": true
      },
      "execution_count": null,
      "outputs": []
    },
    {
      "cell_type": "code",
      "source": [
        "inceptionresnetv2_evaluation = model5.evaluate(val_ds)\n",
        "inceptionresnetv2_evaluation[1]*100"
      ],
      "metadata": {
        "id": "yUsNaxsj2RFO",
        "execution": {
          "iopub.status.busy": "2023-07-26T18:16:13.976383Z",
          "iopub.execute_input": "2023-07-26T18:16:13.976702Z",
          "iopub.status.idle": "2023-07-26T18:16:29.720205Z",
          "shell.execute_reply.started": "2023-07-26T18:16:13.976675Z",
          "shell.execute_reply": "2023-07-26T18:16:29.718708Z"
        },
        "trusted": true
      },
      "execution_count": null,
      "outputs": []
    },
    {
      "cell_type": "code",
      "source": [
        "import matplotlib.pyplot as plt\n",
        "acc = history5.history['accuracy']\n",
        "val_acc = history5.history['val_accuracy']\n",
        "loss = history5.history['loss']\n",
        "val_loss = history5.history['val_loss']\n",
        "\n",
        "epochs = range(len(acc))\n",
        "\n",
        "plt.plot(epochs, acc, 'r', label='Training accuracy')\n",
        "plt.plot(epochs, val_acc, 'b', label='Validation accuracy')\n",
        "plt.title('Training and validation accuracy')\n",
        "plt.legend()\n",
        "plt.figure()\n",
        "\n",
        "plt.plot(epochs, loss, 'r', label='Training Loss')\n",
        "plt.plot(epochs, val_loss, 'b', label='Validation Loss')\n",
        "plt.title('Training and validation loss')\n",
        "plt.legend()\n",
        "\n",
        "plt.show()"
      ],
      "metadata": {
        "id": "pd-_eObg2RHj",
        "execution": {
          "iopub.status.busy": "2023-07-26T18:16:29.721542Z",
          "iopub.execute_input": "2023-07-26T18:16:29.721879Z",
          "iopub.status.idle": "2023-07-26T18:16:30.618129Z",
          "shell.execute_reply.started": "2023-07-26T18:16:29.721850Z",
          "shell.execute_reply": "2023-07-26T18:16:30.616392Z"
        },
        "trusted": true
      },
      "execution_count": null,
      "outputs": []
    },
    {
      "cell_type": "markdown",
      "source": [
        "### 6. DenseNet-201"
      ],
      "metadata": {
        "id": "iAhmL3YevyR8"
      }
    },
    {
      "cell_type": "code",
      "source": [
        "with tpu_strategy.scope():\n",
        "\n",
        "    base_model6 = tf.keras.applications.DenseNet201(\n",
        "                        input_shape=(224, 224, 3),\n",
        "                        weights='imagenet',\n",
        "                        include_top=False)\n",
        "    # Freeze the first 10 layers\n",
        "    for layer in base_model6.layers[:10]:\n",
        "        layer.trainable = False\n",
        "    x = base_model6.output\n",
        "    x = GlobalAveragePooling2D()(x)\n",
        "    x = Dense(512, activation='relu')(x)\n",
        "    x = Dropout(0.4)(x)\n",
        "    predictions6 = Dense(4, activation='softmax')(x)\n",
        "    model6 = Model(inputs=base_model6.inputs, outputs=predictions6)\n",
        "    model6.compile(optimizer='adam',loss=tf.losses.SparseCategoricalCrossentropy(),metrics=['accuracy'])"
      ],
      "metadata": {
        "id": "zGfRGu9C2RKY",
        "execution": {
          "iopub.status.busy": "2023-07-23T17:34:33.837500Z",
          "iopub.execute_input": "2023-07-23T17:34:33.837791Z",
          "iopub.status.idle": "2023-07-23T17:35:34.074555Z",
          "shell.execute_reply.started": "2023-07-23T17:34:33.837764Z",
          "shell.execute_reply": "2023-07-23T17:35:34.073097Z"
        },
        "trusted": true
      },
      "execution_count": null,
      "outputs": []
    },
    {
      "cell_type": "code",
      "source": [
        "history6=model6.fit(\n",
        "  train_ds,\n",
        "  validation_data=test_ds,\n",
        "  epochs=25)\n",
        "\n",
        "model6.save('model6.h5')"
      ],
      "metadata": {
        "id": "QHdbdlJS2RVn",
        "execution": {
          "iopub.status.busy": "2023-07-23T17:35:34.083304Z",
          "iopub.execute_input": "2023-07-23T17:35:34.083711Z",
          "iopub.status.idle": "2023-07-23T17:42:27.987940Z",
          "shell.execute_reply.started": "2023-07-23T17:35:34.083683Z",
          "shell.execute_reply": "2023-07-23T17:42:27.986442Z"
        },
        "trusted": true
      },
      "execution_count": null,
      "outputs": []
    },
    {
      "cell_type": "code",
      "source": [
        "densenet201_evaluation = model6.evaluate(val_ds)\n",
        "densenet201_evaluation[1]*100"
      ],
      "metadata": {
        "id": "3EbXQIue46-4",
        "execution": {
          "iopub.status.busy": "2023-07-23T17:42:27.988841Z",
          "iopub.status.idle": "2023-07-23T17:42:27.989187Z",
          "shell.execute_reply.started": "2023-07-23T17:42:27.989013Z",
          "shell.execute_reply": "2023-07-23T17:42:27.989029Z"
        },
        "trusted": true
      },
      "execution_count": null,
      "outputs": []
    },
    {
      "cell_type": "code",
      "source": [
        "import matplotlib.pyplot as plt\n",
        "acc = history6.history['accuracy']\n",
        "val_acc = history6.history['val_accuracy']\n",
        "loss = history6.history['loss']\n",
        "val_loss = history6.history['val_loss']\n",
        "\n",
        "epochs = range(len(acc))\n",
        "\n",
        "plt.plot(epochs, acc, 'r', label='Training accuracy')\n",
        "plt.plot(epochs, val_acc, 'b', label='Validation accuracy')\n",
        "plt.title('Training and validation accuracy')\n",
        "plt.legend()\n",
        "plt.figure()\n",
        "\n",
        "plt.plot(epochs, loss, 'r', label='Training Loss')\n",
        "plt.plot(epochs, val_loss, 'b', label='Validation Loss')\n",
        "plt.title('Training and validation loss')\n",
        "plt.legend()\n",
        "\n",
        "plt.show()"
      ],
      "metadata": {
        "id": "pKw2KR512RYF",
        "execution": {
          "iopub.status.busy": "2023-07-23T17:42:27.990445Z",
          "iopub.status.idle": "2023-07-23T17:42:27.990861Z",
          "shell.execute_reply.started": "2023-07-23T17:42:27.990632Z",
          "shell.execute_reply": "2023-07-23T17:42:27.990651Z"
        },
        "trusted": true
      },
      "execution_count": null,
      "outputs": []
    },
    {
      "cell_type": "markdown",
      "source": [
        "### 7. ResNet-101"
      ],
      "metadata": {
        "id": "pWeHd5JIxEIQ"
      }
    },
    {
      "cell_type": "code",
      "source": [
        "with tpu_strategy.scope():\n",
        "\n",
        "    base_model7 = tf.keras.applications.ResNet101(\n",
        "                        input_shape=(224, 224, 3),\n",
        "                        weights='imagenet',\n",
        "                        include_top=False)\n",
        "    # Freeze the first 10 layers\n",
        "    for layer in base_model7.layers[:10]:\n",
        "        layer.trainable = False\n",
        "    x = base_model7.output\n",
        "    x = GlobalAveragePooling2D()(x)\n",
        "    x = Dense(512, activation='relu')(x)\n",
        "    x = Dropout(0.4)(x)\n",
        "    predictions7 = Dense(4, activation='softmax')(x)\n",
        "    model7 = Model(inputs=base_model7.inputs, outputs=predictions7)\n",
        "    model7.compile(optimizer='adam',loss=tf.losses.SparseCategoricalCrossentropy(),metrics=['accuracy'])"
      ],
      "metadata": {
        "id": "8JHvpb3wGDZK",
        "execution": {
          "iopub.status.busy": "2023-07-26T18:18:06.202470Z",
          "iopub.execute_input": "2023-07-26T18:18:06.203469Z",
          "iopub.status.idle": "2023-07-26T18:18:28.862850Z",
          "shell.execute_reply.started": "2023-07-26T18:18:06.203425Z",
          "shell.execute_reply": "2023-07-26T18:18:28.861394Z"
        },
        "trusted": true
      },
      "execution_count": null,
      "outputs": []
    },
    {
      "cell_type": "code",
      "source": [
        "history7=model7.fit(\n",
        "  train_ds,\n",
        "  validation_data=test_ds,\n",
        "  epochs=25)\n",
        "\n",
        "model7.save('model7.h5')"
      ],
      "metadata": {
        "id": "Ut-mVHLLGDmZ",
        "execution": {
          "iopub.status.busy": "2023-07-26T18:18:28.870847Z",
          "iopub.execute_input": "2023-07-26T18:18:28.871122Z",
          "iopub.status.idle": "2023-07-26T18:24:32.872850Z",
          "shell.execute_reply.started": "2023-07-26T18:18:28.871099Z",
          "shell.execute_reply": "2023-07-26T18:24:32.871329Z"
        },
        "trusted": true
      },
      "execution_count": null,
      "outputs": []
    },
    {
      "cell_type": "code",
      "source": [
        "resnet101_evaluation = model7.evaluate(val_ds)\n",
        "resnet101_evaluation[1]*100"
      ],
      "metadata": {
        "id": "GEDERIagGD5w",
        "execution": {
          "iopub.status.busy": "2023-07-26T18:24:32.875601Z",
          "iopub.execute_input": "2023-07-26T18:24:32.875921Z",
          "iopub.status.idle": "2023-07-26T18:24:44.726276Z",
          "shell.execute_reply.started": "2023-07-26T18:24:32.875895Z",
          "shell.execute_reply": "2023-07-26T18:24:44.724959Z"
        },
        "trusted": true
      },
      "execution_count": null,
      "outputs": []
    },
    {
      "cell_type": "code",
      "source": [
        "import matplotlib.pyplot as plt\n",
        "acc = history7.history['accuracy']\n",
        "val_acc = history7.history['val_accuracy']\n",
        "loss = history7.history['loss']\n",
        "val_loss = history7.history['val_loss']\n",
        "\n",
        "epochs = range(len(acc))\n",
        "\n",
        "plt.plot(epochs, acc, 'r', label='Training accuracy')\n",
        "plt.plot(epochs, val_acc, 'b', label='Validation accuracy')\n",
        "plt.title('Training and validation accuracy')\n",
        "plt.legend()\n",
        "plt.figure()\n",
        "\n",
        "plt.plot(epochs, loss, 'r', label='Training Loss')\n",
        "plt.plot(epochs, val_loss, 'b', label='Validation Loss')\n",
        "plt.title('Training and validation loss')\n",
        "plt.legend()\n",
        "\n",
        "plt.show()"
      ],
      "metadata": {
        "id": "-zRiN68tS_7A",
        "execution": {
          "iopub.status.busy": "2023-07-26T18:24:44.727720Z",
          "iopub.execute_input": "2023-07-26T18:24:44.728058Z",
          "iopub.status.idle": "2023-07-26T18:24:45.598856Z",
          "shell.execute_reply.started": "2023-07-26T18:24:44.728028Z",
          "shell.execute_reply": "2023-07-26T18:24:45.597374Z"
        },
        "trusted": true
      },
      "execution_count": null,
      "outputs": []
    },
    {
      "cell_type": "markdown",
      "source": [
        "### 8. MobileNet"
      ],
      "metadata": {
        "id": "jx38CAbXxoSX"
      }
    },
    {
      "cell_type": "code",
      "source": [
        "with tpu_strategy.scope():\n",
        "\n",
        "    base_model8 = tf.keras.applications.MobileNet(\n",
        "                        input_shape=(224, 224, 3),\n",
        "                        weights='imagenet',\n",
        "                        include_top=False)\n",
        "    # Freeze the first 10 layers\n",
        "    for layer in base_model8.layers[:10]:\n",
        "        layer.trainable = False\n",
        "    x = base_model8.output\n",
        "    x = GlobalAveragePooling2D()(x)\n",
        "    x = Dense(512, activation='relu')(x)\n",
        "    x = Dropout(0.4)(x)\n",
        "    predictions8 = Dense(4, activation='softmax')(x)\n",
        "    model8 = Model(inputs=base_model8.inputs, outputs=predictions8)\n",
        "    model8.compile(optimizer='adam',loss=tf.losses.SparseCategoricalCrossentropy(),metrics=['accuracy'])"
      ],
      "metadata": {
        "id": "u1hKSZofSUoe",
        "execution": {
          "iopub.status.busy": "2023-07-26T18:28:03.767990Z",
          "iopub.execute_input": "2023-07-26T18:28:03.768265Z",
          "iopub.status.idle": "2023-07-26T18:28:08.356476Z",
          "shell.execute_reply.started": "2023-07-26T18:28:03.768240Z",
          "shell.execute_reply": "2023-07-26T18:28:08.354965Z"
        },
        "trusted": true
      },
      "execution_count": null,
      "outputs": []
    },
    {
      "cell_type": "code",
      "source": [
        "history8=model8.fit(\n",
        "  train_ds,\n",
        "  validation_data=test_ds,\n",
        "  epochs=25)\n",
        "\n",
        "model8.save('model8.h5')"
      ],
      "metadata": {
        "id": "Ofj5zQo1SU6-",
        "execution": {
          "iopub.status.busy": "2023-07-26T18:28:20.997692Z",
          "iopub.execute_input": "2023-07-26T18:28:20.998754Z",
          "iopub.status.idle": "2023-07-26T18:30:39.192044Z",
          "shell.execute_reply.started": "2023-07-26T18:28:20.998712Z",
          "shell.execute_reply": "2023-07-26T18:30:39.190580Z"
        },
        "trusted": true
      },
      "execution_count": null,
      "outputs": []
    },
    {
      "cell_type": "code",
      "source": [
        "mobilenet_evaluation = model8.evaluate(val_ds)\n",
        "mobilenet_evaluation[1]*100"
      ],
      "metadata": {
        "id": "EdZauDNcSU9y",
        "execution": {
          "iopub.status.busy": "2023-07-26T18:30:39.194379Z",
          "iopub.execute_input": "2023-07-26T18:30:39.194963Z",
          "iopub.status.idle": "2023-07-26T18:30:45.018773Z",
          "shell.execute_reply.started": "2023-07-26T18:30:39.194930Z",
          "shell.execute_reply": "2023-07-26T18:30:45.017376Z"
        },
        "trusted": true
      },
      "execution_count": null,
      "outputs": []
    },
    {
      "cell_type": "code",
      "source": [
        "import matplotlib.pyplot as plt\n",
        "acc = history8.history['accuracy']\n",
        "val_acc = history8.history['val_accuracy']\n",
        "loss = history8.history['loss']\n",
        "val_loss = history8.history['val_loss']\n",
        "\n",
        "epochs = range(len(acc))\n",
        "\n",
        "plt.plot(epochs, acc, 'r', label='Training accuracy')\n",
        "plt.plot(epochs, val_acc, 'b', label='Validation accuracy')\n",
        "plt.title('Training and validation accuracy')\n",
        "plt.legend()\n",
        "plt.figure()\n",
        "\n",
        "plt.plot(epochs, loss, 'r', label='Training Loss')\n",
        "plt.plot(epochs, val_loss, 'b', label='Validation Loss')\n",
        "plt.title('Training and validation loss')\n",
        "plt.legend()\n",
        "\n",
        "plt.show()"
      ],
      "metadata": {
        "id": "pZeXKZYgTXQu",
        "execution": {
          "iopub.status.busy": "2023-07-26T18:30:45.020235Z",
          "iopub.execute_input": "2023-07-26T18:30:45.020621Z",
          "iopub.status.idle": "2023-07-26T18:30:45.862179Z",
          "shell.execute_reply.started": "2023-07-26T18:30:45.020589Z",
          "shell.execute_reply": "2023-07-26T18:30:45.860852Z"
        },
        "trusted": true
      },
      "execution_count": null,
      "outputs": []
    },
    {
      "cell_type": "markdown",
      "source": [
        "### 9. Xception"
      ],
      "metadata": {
        "id": "Ea4G-GV-yUMq"
      }
    },
    {
      "cell_type": "code",
      "source": [
        "with tpu_strategy.scope():\n",
        "    base_model9 = tf.keras.applications.Xception(\n",
        "                        input_shape=(224, 224, 3),\n",
        "                        weights='imagenet',\n",
        "                        include_top=False)\n",
        "    # Freeze the first 10 layers\n",
        "    for layer in base_model9.layers[:10]:\n",
        "        layer.trainable = False\n",
        "    x = base_model9.output\n",
        "    x = GlobalAveragePooling2D()(x)\n",
        "    x = Dense(512, activation='relu')(x)\n",
        "    x = Dropout(0.4)(x)\n",
        "    predictions9 = Dense(4, activation='softmax')(x)\n",
        "    model9 = Model(inputs=base_model9.inputs, outputs=predictions9)\n",
        "    model9.compile(optimizer='adam',loss=tf.losses.SparseCategoricalCrossentropy(),metrics=['accuracy'])"
      ],
      "metadata": {
        "id": "5YDQe8YOTroW",
        "execution": {
          "iopub.status.busy": "2023-07-26T18:30:58.911896Z",
          "iopub.execute_input": "2023-07-26T18:30:58.913080Z",
          "iopub.status.idle": "2023-07-26T18:31:11.483201Z",
          "shell.execute_reply.started": "2023-07-26T18:30:58.913040Z",
          "shell.execute_reply": "2023-07-26T18:31:11.481713Z"
        },
        "trusted": true
      },
      "execution_count": null,
      "outputs": []
    },
    {
      "cell_type": "code",
      "source": [
        "history9=model9.fit(\n",
        "  train_ds,\n",
        "  validation_data=test_ds,\n",
        "  epochs=25)\n",
        "\n",
        "model9.save('model9.h5')"
      ],
      "metadata": {
        "id": "SLvidtHpTrtX",
        "execution": {
          "iopub.status.busy": "2023-07-26T18:31:11.490995Z",
          "iopub.execute_input": "2023-07-26T18:31:11.491259Z",
          "iopub.status.idle": "2023-07-26T18:34:48.153863Z",
          "shell.execute_reply.started": "2023-07-26T18:31:11.491236Z",
          "shell.execute_reply": "2023-07-26T18:34:48.152489Z"
        },
        "trusted": true
      },
      "execution_count": null,
      "outputs": []
    },
    {
      "cell_type": "code",
      "source": [
        "xception_evaluation = model9.evaluate(val_ds)\n",
        "xception_evaluation[1]*100"
      ],
      "metadata": {
        "id": "mkAKNcQXTrv5",
        "execution": {
          "iopub.status.busy": "2023-07-26T18:34:48.156760Z",
          "iopub.execute_input": "2023-07-26T18:34:48.157083Z",
          "iopub.status.idle": "2023-07-26T18:34:55.757942Z",
          "shell.execute_reply.started": "2023-07-26T18:34:48.157056Z",
          "shell.execute_reply": "2023-07-26T18:34:55.756707Z"
        },
        "trusted": true
      },
      "execution_count": null,
      "outputs": []
    },
    {
      "cell_type": "code",
      "source": [
        "import matplotlib.pyplot as plt\n",
        "acc = history9.history['accuracy']\n",
        "val_acc = history9.history['val_accuracy']\n",
        "loss = history9.history['loss']\n",
        "val_loss = history9.history['val_loss']\n",
        "\n",
        "epochs = range(len(acc))\n",
        "\n",
        "plt.plot(epochs, acc, 'r', label='Training accuracy')\n",
        "plt.plot(epochs, val_acc, 'b', label='Validation accuracy')\n",
        "plt.title('Training and validation accuracy')\n",
        "plt.legend()\n",
        "plt.figure()\n",
        "\n",
        "plt.plot(epochs, loss, 'r', label='Training Loss')\n",
        "plt.plot(epochs, val_loss, 'b', label='Validation Loss')\n",
        "plt.title('Training and validation loss')\n",
        "plt.legend()\n",
        "\n",
        "plt.show()"
      ],
      "metadata": {
        "id": "Mv2O2p4lTryV",
        "execution": {
          "iopub.status.busy": "2023-07-26T18:34:55.759243Z",
          "iopub.execute_input": "2023-07-26T18:34:55.759695Z",
          "iopub.status.idle": "2023-07-26T18:34:56.566041Z",
          "shell.execute_reply.started": "2023-07-26T18:34:55.759662Z",
          "shell.execute_reply": "2023-07-26T18:34:56.564759Z"
        },
        "trusted": true
      },
      "execution_count": null,
      "outputs": []
    },
    {
      "cell_type": "code",
      "source": [],
      "metadata": {
        "id": "EBQWMgbZiqCa"
      },
      "execution_count": null,
      "outputs": []
    },
    {
      "cell_type": "markdown",
      "source": [
        "### 10. ResNet-152"
      ],
      "metadata": {
        "id": "kR3BrhzUyUPS"
      }
    },
    {
      "cell_type": "code",
      "source": [
        "with tpu_strategy.scope():\n",
        "\n",
        "    base_model10 = tf.keras.applications.ResNet152(\n",
        "                        input_shape=(224, 224, 3),\n",
        "                        weights='imagenet',\n",
        "                        include_top=False)\n",
        "    # Freeze the first 10 layers\n",
        "    for layer in base_model10.layers[:10]:\n",
        "        layer.trainable = False\n",
        "    x = base_model10.output\n",
        "    x = GlobalAveragePooling2D()(x)\n",
        "    x = Dense(512, activation='relu')(x)\n",
        "    x = Dropout(0.4)(x)\n",
        "    predictions10 = Dense(4, activation='softmax')(x)\n",
        "    model10 = Model(inputs=base_model10.inputs, outputs=predictions10)\n",
        "    model10.compile(optimizer='adam',loss=tf.losses.SparseCategoricalCrossentropy(),metrics=['accuracy'])"
      ],
      "metadata": {
        "id": "DBcaGAnkWmcc",
        "execution": {
          "iopub.status.busy": "2023-07-26T18:34:56.567350Z",
          "iopub.execute_input": "2023-07-26T18:34:56.567693Z",
          "iopub.status.idle": "2023-07-26T18:35:29.312667Z",
          "shell.execute_reply.started": "2023-07-26T18:34:56.567669Z",
          "shell.execute_reply": "2023-07-26T18:35:29.311404Z"
        },
        "trusted": true
      },
      "execution_count": null,
      "outputs": []
    },
    {
      "cell_type": "code",
      "source": [
        "history10=model10.fit(\n",
        "  train_ds,\n",
        "  validation_data=test_ds,\n",
        "  epochs=25)\n",
        "\n",
        "model10.save('model10.h5')"
      ],
      "metadata": {
        "id": "a7ALOJjtWmh2",
        "execution": {
          "iopub.status.busy": "2023-07-26T18:35:29.320096Z",
          "iopub.execute_input": "2023-07-26T18:35:29.320441Z",
          "iopub.status.idle": "2023-07-26T18:43:53.863937Z",
          "shell.execute_reply.started": "2023-07-26T18:35:29.320409Z",
          "shell.execute_reply": "2023-07-26T18:43:53.862549Z"
        },
        "trusted": true
      },
      "execution_count": null,
      "outputs": []
    },
    {
      "cell_type": "code",
      "source": [
        "resnet152_evaluation = model10.evaluate(val_ds)\n",
        "resnet152_evaluation[1]*100"
      ],
      "metadata": {
        "id": "G4FtXHUNWmks",
        "execution": {
          "iopub.status.busy": "2023-07-26T18:43:53.866807Z",
          "iopub.execute_input": "2023-07-26T18:43:53.867109Z",
          "iopub.status.idle": "2023-07-26T18:44:07.668823Z",
          "shell.execute_reply.started": "2023-07-26T18:43:53.867083Z",
          "shell.execute_reply": "2023-07-26T18:44:07.667354Z"
        },
        "trusted": true
      },
      "execution_count": null,
      "outputs": []
    },
    {
      "cell_type": "code",
      "source": [
        "import matplotlib.pyplot as plt\n",
        "acc = history10.history['accuracy']\n",
        "val_acc = history10.history['val_accuracy']\n",
        "loss = history10.history['loss']\n",
        "val_loss = history10.history['val_loss']\n",
        "\n",
        "epochs = range(len(acc))\n",
        "\n",
        "plt.plot(epochs, acc, 'r', label='Training accuracy')\n",
        "plt.plot(epochs, val_acc, 'b', label='Validation accuracy')\n",
        "plt.title('Training and validation accuracy')\n",
        "plt.legend()\n",
        "plt.figure()\n",
        "\n",
        "plt.plot(epochs, loss, 'r', label='Training Loss')\n",
        "plt.plot(epochs, val_loss, 'b', label='Validation Loss')\n",
        "plt.title('Training and validation loss')\n",
        "plt.legend()\n",
        "\n",
        "plt.show()"
      ],
      "metadata": {
        "id": "ZBwPQlpXWt6B",
        "execution": {
          "iopub.status.busy": "2023-07-26T18:44:07.671980Z",
          "iopub.execute_input": "2023-07-26T18:44:07.672402Z",
          "iopub.status.idle": "2023-07-26T18:44:08.507926Z",
          "shell.execute_reply.started": "2023-07-26T18:44:07.672326Z",
          "shell.execute_reply": "2023-07-26T18:44:08.506530Z"
        },
        "trusted": true
      },
      "execution_count": null,
      "outputs": []
    },
    {
      "cell_type": "markdown",
      "source": [
        "#### Model Checkpoint"
      ],
      "metadata": {
        "id": "XiQivV6UpC0j"
      }
    },
    {
      "cell_type": "code",
      "source": [
        "from tensorflow.keras.callbacks import ModelCheckpoint\n",
        "# Checkpoint to save best model per epoch\n",
        "\n",
        "model_filepath = \"/kaggle/working-{epoch:02d}-{val_accuracy:.4f}.hdf5\"\n",
        "checkpoint = ModelCheckpoint(\n",
        "    filepath=model_filepath,\n",
        "    monitor='val_accuracy',\n",
        "    mode='max',\n",
        "    save_best_only=True,\n",
        "    verbose=1\n",
        ")"
      ],
      "metadata": {
        "id": "hPFR4KaKdTjk",
        "execution": {
          "iopub.status.busy": "2023-07-26T18:44:08.509166Z",
          "iopub.execute_input": "2023-07-26T18:44:08.509523Z",
          "iopub.status.idle": "2023-07-26T18:44:08.515325Z",
          "shell.execute_reply.started": "2023-07-26T18:44:08.509496Z",
          "shell.execute_reply": "2023-07-26T18:44:08.514156Z"
        },
        "trusted": true
      },
      "execution_count": null,
      "outputs": []
    },
    {
      "cell_type": "markdown",
      "source": [
        "### Building Ensemble Model"
      ],
      "metadata": {
        "id": "8i02Bk7bePjV"
      }
    },
    {
      "cell_type": "code",
      "source": [
        "# choosing only the best accuracy models\n",
        "\n",
        "from tensorflow.keras.models import Model, load_model\n",
        "from tensorflow.keras.layers import Input, Average\n",
        "with tpu_strategy.scope():\n",
        "#     model_1 = load_model('/kaggle/working/model1.h5')\n",
        "#     model_1 = Model(inputs=model_1.inputs,\n",
        "#                     outputs=model_1.outputs,\n",
        "#                     name='name_of_model_1')\n",
        "\n",
        "    model_2 = load_model('/kaggle/working/model2.h5')\n",
        "    model_2 = Model(inputs=model_2.inputs,\n",
        "                    outputs=model_2.outputs,\n",
        "                    name='name_of_model_2')\n",
        "\n",
        "    model_3 = load_model('/kaggle/working/model3.h5')\n",
        "    model_3 = Model(inputs=model_3.inputs,\n",
        "                    outputs=model_3.outputs,\n",
        "                    name='name_of_model_3')\n",
        "\n",
        "\n",
        "    model_5 = load_model('/kaggle/working/model5.h5')\n",
        "    model_5 = Model(inputs=model_5.inputs,\n",
        "                    outputs=model_5.outputs,\n",
        "                    name='name_of_model_5')\n",
        "\n",
        "    model_7 = load_model('/kaggle/working/model7.h5')\n",
        "    model_7 = Model(inputs=model_7.inputs,\n",
        "                    outputs=model_7.outputs,\n",
        "                    name='name_of_model_7')\n",
        "\n",
        "#     model_9 = load_model('/kaggle/working/model9.h5')\n",
        "#     model_9 = Model(inputs=model_9.inputs,\n",
        "#                     outputs=model_9.outputs,\n",
        "#                     name='name_of_model_9')\n",
        "\n",
        "\n",
        "\n",
        "    models = [model_2, model_3, model_5,model_7]\n",
        "    model_input = Input(shape=(224, 224, 3))\n",
        "    model_outputs = [model(model_input) for model in models]\n",
        "    ensemble_output = Average()(model_outputs)\n",
        "    ensemble_model = Model(inputs=model_input, outputs=ensemble_output, name='ensemble')\n",
        "    ensemble_model.compile(optimizer='adam',loss=tf.losses.SparseCategoricalCrossentropy(from_logits=False),metrics=['accuracy'])\n"
      ],
      "metadata": {
        "id": "QNa0z9E2dUE4",
        "execution": {
          "iopub.status.busy": "2023-07-26T19:20:17.594229Z",
          "iopub.execute_input": "2023-07-26T19:20:17.594711Z",
          "iopub.status.idle": "2023-07-26T19:22:13.854593Z",
          "shell.execute_reply.started": "2023-07-26T19:20:17.594677Z",
          "shell.execute_reply": "2023-07-26T19:22:13.853170Z"
        },
        "trusted": true
      },
      "execution_count": null,
      "outputs": []
    },
    {
      "cell_type": "code",
      "source": [
        "# ensemble_model.compile(optimizer='adam',loss=tf.losses.SparseCategoricalCrossentropy(from_logits=False),metrics=['accuracy'])\n"
      ],
      "metadata": {
        "id": "Uk4HpvEqdyh5",
        "execution": {
          "iopub.status.busy": "2023-07-26T19:22:13.856479Z",
          "iopub.execute_input": "2023-07-26T19:22:13.856799Z",
          "iopub.status.idle": "2023-07-26T19:22:13.861448Z",
          "shell.execute_reply.started": "2023-07-26T19:22:13.856773Z",
          "shell.execute_reply": "2023-07-26T19:22:13.860416Z"
        },
        "trusted": true
      },
      "execution_count": null,
      "outputs": []
    },
    {
      "cell_type": "code",
      "source": [
        "history=ensemble_model.fit(\n",
        "  train_ds,\n",
        "  validation_data=test_ds,\n",
        "  epochs=25)"
      ],
      "metadata": {
        "id": "GQBUb_5HdylJ",
        "execution": {
          "iopub.status.busy": "2023-07-26T19:22:13.862707Z",
          "iopub.execute_input": "2023-07-26T19:22:13.863015Z",
          "iopub.status.idle": "2023-07-26T19:37:18.390758Z",
          "shell.execute_reply.started": "2023-07-26T19:22:13.862989Z",
          "shell.execute_reply": "2023-07-26T19:37:18.389287Z"
        },
        "trusted": true
      },
      "execution_count": null,
      "outputs": []
    },
    {
      "cell_type": "code",
      "source": [
        "ensemble_evaluation = ensemble_model.evaluate(val_ds)\n",
        "ensemble_evaluation[1]*100"
      ],
      "metadata": {
        "id": "IQHv3gLsxS_n",
        "execution": {
          "iopub.status.busy": "2023-07-26T19:37:18.393967Z",
          "iopub.execute_input": "2023-07-26T19:37:18.394298Z",
          "iopub.status.idle": "2023-07-26T19:37:45.045721Z",
          "shell.execute_reply.started": "2023-07-26T19:37:18.394268Z",
          "shell.execute_reply": "2023-07-26T19:37:45.044417Z"
        },
        "trusted": true
      },
      "execution_count": null,
      "outputs": []
    },
    {
      "cell_type": "code",
      "source": [
        "import matplotlib.pyplot as plt\n",
        "acc = history.history['accuracy']\n",
        "val_acc = history.history['val_accuracy']\n",
        "loss = history.history['loss']\n",
        "val_loss = history.history['val_loss']\n",
        "\n",
        "epochs = range(len(acc))\n",
        "\n",
        "plt.plot(epochs, acc, 'r', label='Training accuracy')\n",
        "plt.plot(epochs, val_acc, 'b', label='Validation accuracy')\n",
        "plt.title('Training and validation accuracy')\n",
        "plt.legend()\n",
        "plt.figure()\n",
        "\n",
        "plt.plot(epochs, loss, 'r', label='Training Loss')\n",
        "plt.plot(epochs, val_loss, 'b', label='Validation Loss')\n",
        "plt.title('Training and validation loss')\n",
        "plt.legend()\n",
        "\n",
        "plt.show()"
      ],
      "metadata": {
        "id": "CaKoZrXFdypM",
        "execution": {
          "iopub.status.busy": "2023-07-26T19:37:45.047064Z",
          "iopub.execute_input": "2023-07-26T19:37:45.047415Z",
          "iopub.status.idle": "2023-07-26T19:37:46.027963Z",
          "shell.execute_reply.started": "2023-07-26T19:37:45.047386Z",
          "shell.execute_reply": "2023-07-26T19:37:46.026660Z"
        },
        "trusted": true
      },
      "execution_count": null,
      "outputs": []
    },
    {
      "cell_type": "code",
      "source": [
        "train_label = np.concatenate([y for x, y in train_ds], axis=0)\n",
        "print(train_label.shape)\n",
        "\n",
        "test_label = np.concatenate([y for x, y in test_ds], axis=0)\n",
        "print(test_label.shape)"
      ],
      "metadata": {
        "id": "xldOvGRodyrO",
        "execution": {
          "iopub.status.busy": "2023-07-26T19:37:46.029116Z",
          "iopub.execute_input": "2023-07-26T19:37:46.029419Z",
          "iopub.status.idle": "2023-07-26T19:37:46.067645Z",
          "shell.execute_reply.started": "2023-07-26T19:37:46.029395Z",
          "shell.execute_reply": "2023-07-26T19:37:46.066403Z"
        },
        "trusted": true
      },
      "execution_count": null,
      "outputs": []
    },
    {
      "cell_type": "code",
      "source": [
        "from sklearn.metrics import classification_report, confusion_matrix\n",
        "from sklearn.metrics import ConfusionMatrixDisplay\n",
        "#Confution Matrix and Classification Report\n",
        "import matplotlib.pyplot as plt\n",
        "Y_pred = ensemble_model.predict_generator(test_ds, 1600)\n",
        "y_pred = np.argmax(Y_pred, axis=1)\n",
        "print('Confusion Matrix')\n",
        "cm=confusion_matrix(test_label, y_pred)\n",
        "print(cm)\n",
        "print('Classification Report')\n",
        "target_names = ['glioma', 'meningioma', 'notumor', 'pituitary']\n",
        "print(classification_report(test_label, y_pred, target_names=target_names))\n",
        "\n",
        "import seaborn as sns\n",
        "sns.set(font_scale=1.0)\n",
        "ax=sns.heatmap(cm, annot=True, cmap='summer', cbar=False, linewidths=3, linecolor='r', square=True, xticklabels=target_names,yticklabels=target_names,fmt='')\n",
        "#sns.heatmap(cm, annot=True,annot_kws={\"size\": 22})\n",
        "sns.set(font_scale = 2.0)\n",
        "ax.set_title('Seaborn Confusion Matrix with labels\\n\\n');\n",
        "ax.set_xlabel('\\nActual Values')\n",
        "ax.set_ylabel('Predicted Values ');"
      ],
      "metadata": {
        "id": "EKeGSPsxdytA",
        "execution": {
          "iopub.status.busy": "2023-07-26T19:37:46.068879Z",
          "iopub.execute_input": "2023-07-26T19:37:46.069286Z",
          "iopub.status.idle": "2023-07-26T19:38:51.197320Z",
          "shell.execute_reply.started": "2023-07-26T19:37:46.069256Z",
          "shell.execute_reply": "2023-07-26T19:38:51.196110Z"
        },
        "trusted": true
      },
      "execution_count": null,
      "outputs": []
    }
  ]
}